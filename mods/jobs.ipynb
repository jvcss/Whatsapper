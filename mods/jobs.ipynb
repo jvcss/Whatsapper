{
 "cells": [
  {
   "cell_type": "markdown",
   "metadata": {},
   "source": [
    "COPIAR E COLAR LINUX"
   ]
  },
  {
   "cell_type": "code",
   "execution_count": 9,
   "metadata": {},
   "outputs": [
    {
     "name": "stdout",
     "output_type": "stream",
     "text": [
      "nt\n",
      "<function Mapping.values at 0x000000000377AE50>\n"
     ]
    }
   ],
   "source": [
    "import os\n",
    "print(os.name)\n",
    "if os.name == 'nt':\n",
    "    from io import BytesIO\n",
    "    import win32clipboard\n",
    "    from PIL import Image\n",
    "    def send_to_clipboard(clip_type, filepath):\n",
    "        \n",
    "        image = Image.open(filepath)\n",
    "\n",
    "        output = BytesIO()\n",
    "        image.convert(\"RGB\").save(output, \"BMP\")\n",
    "        data = output.getvalue()[14:]\n",
    "        output.close()\n",
    "\n",
    "        win32clipboard.OpenClipboard()\n",
    "        win32clipboard.EmptyClipboard()\n",
    "        win32clipboard.SetClipboardData(clip_type, data)\n",
    "        win32clipboard.CloseClipboard()\n",
    "elif os.name == 'posix':\n",
    "    import subprocess\n",
    "    def getClipboardData():\n",
    "        p = subprocess.Popen(['xclip','-selection', 'clipboard', '-o'], stdout=subprocess.PIPE)\n",
    "        retcode = p.wait()\n",
    "        data = p.stdout.read()\n",
    "        return data\n",
    "\n",
    "    def setClipboardData(data):\n",
    "        p = subprocess.Popen(['xclip','-selection','clipboard'], stdin=subprocess.PIPE)\n",
    "        p.stdin.write(data)\n",
    "        p.stdin.close()\n",
    "        retcode = p.wait()\n"
   ]
  },
  {
   "cell_type": "code",
   "execution_count": null,
   "metadata": {},
   "outputs": [],
   "source": []
  },
  {
   "cell_type": "code",
   "execution_count": null,
   "metadata": {},
   "outputs": [],
   "source": []
  }
 ],
 "metadata": {
  "interpreter": {
   "hash": "69eb92836b941e979072a76c7fcfffe5419cca933cedd02cfafbdfca1a93358c"
  },
  "kernelspec": {
   "display_name": "Python 3.9.10 64-bit",
   "language": "python",
   "name": "python3"
  },
  "language_info": {
   "codemirror_mode": {
    "name": "ipython",
    "version": 3
   },
   "file_extension": ".py",
   "mimetype": "text/x-python",
   "name": "python",
   "nbconvert_exporter": "python",
   "pygments_lexer": "ipython3",
   "version": "3.9.10"
  },
  "orig_nbformat": 4
 },
 "nbformat": 4,
 "nbformat_minor": 2
}
